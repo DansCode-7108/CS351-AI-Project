{
  "nbformat": 4,
  "nbformat_minor": 0,
  "metadata": {
    "colab": {
      "provenance": [],
      "gpuType": "T4"
    },
    "kernelspec": {
      "name": "python3",
      "display_name": "Python 3"
    },
    "language_info": {
      "name": "python"
    },
    "gpuClass": "standard"
  },
  "cells": [
    {
      "cell_type": "markdown",
      "source": [
        "Task: Predict Rainfall in Australia\n",
        "\n",
        "Dataset: https://www.kaggle.com/datasets/jsphyg/weather-dataset-rattle-package\n",
        "\n",
        "Algorithm: Random Forest Classifier\n",
        "\n",
        "How to Run:\n",
        "\n"
      ],
      "metadata": {
        "id": "7PXRafR-5O_l"
      }
    },
    {
      "cell_type": "code",
      "source": [
        "import numpy as np #importing numpy with name np\n",
        "import pandas as pd #importing pandas with name pd"
      ],
      "metadata": {
        "id": "n-MQ3V78izW4"
      },
      "execution_count": null,
      "outputs": []
    },
    {
      "cell_type": "code",
      "source": [
        "# Drop unused columns and columns and rows containing 'NA'\n",
        "\n",
        "df = pd.read_csv(\"/content/weatherAUS.csv\") #assigning data to the csv file\n",
        "df.drop(['Sunshine', 'Evaporation', 'Cloud3pm', 'Cloud9am'], inplace=True, axis=1) #dropping columns that contain all NA\n",
        "df = df.replace('NA', np.nan).dropna() #dropping any row that contains an NA in one of its elements\n",
        "df.columns"
      ],
      "metadata": {
        "id": "ifXKV1O3iz2I",
        "colab": {
          "base_uri": "https://localhost:8080/"
        },
        "outputId": "1916dc99-e1e1-4298-a037-f02568d11131"
      },
      "execution_count": null,
      "outputs": [
        {
          "output_type": "execute_result",
          "data": {
            "text/plain": [
              "Index(['Date', 'Location', 'MinTemp', 'MaxTemp', 'Rainfall', 'WindGustDir',\n",
              "       'WindGustSpeed', 'WindDir9am', 'WindDir3pm', 'WindSpeed9am',\n",
              "       'WindSpeed3pm', 'Humidity9am', 'Humidity3pm', 'Pressure9am',\n",
              "       'Pressure3pm', 'Temp9am', 'Temp3pm', 'RainToday', 'RainTomorrow'],\n",
              "      dtype='object')"
            ]
          },
          "metadata": {},
          "execution_count": 2
        }
      ]
    },
    {
      "cell_type": "code",
      "source": [
        "# Reformat Date column from 'yyyy-mm-dd' to 'mm-dd'\n",
        "\n",
        "for date in df['Date']:\n",
        "  date = date[5:]\n",
        "\n",
        "  # if len(date) != 5:\n",
        "  #   raise Exception(\"Date not acceptable\")"
      ],
      "metadata": {
        "id": "pZoCMNyol5Ql"
      },
      "execution_count": null,
      "outputs": []
    },
    {
      "cell_type": "code",
      "source": [
        "# convert all text in data to numeric value\n",
        "\n",
        "text_columns = df.select_dtypes(include=[object]).columns\n",
        "print('text_columns: ', text_columns)\n",
        "\n",
        "for col in text_columns:\n",
        "  unique_vals = df[col].unique()\n",
        "  num = 0\n",
        "  for val in unique_vals:\n",
        "    df[col].replace(val, num, inplace=True)\n",
        "    num += 1"
      ],
      "metadata": {
        "id": "72AGogy5kK0H",
        "colab": {
          "base_uri": "https://localhost:8080/"
        },
        "outputId": "16cf250a-feea-4bbe-c739-d531a21f6f45"
      },
      "execution_count": null,
      "outputs": [
        {
          "output_type": "stream",
          "name": "stdout",
          "text": [
            "text_columns:  Index(['Date', 'Location', 'WindGustDir', 'WindDir9am', 'WindDir3pm',\n",
            "       'RainToday', 'RainTomorrow'],\n",
            "      dtype='object')\n"
          ]
        }
      ]
    },
    {
      "cell_type": "code",
      "source": [
        "# print name of data type of each column to verify numeric values\n",
        "\n",
        "for col in df.columns:\n",
        "  print('column name: \\t', col)\n",
        "  print('data type: \\t', df[col].dtypes)\n",
        "  print('\\n')"
      ],
      "metadata": {
        "id": "N2reDkLR2f-c",
        "colab": {
          "base_uri": "https://localhost:8080/"
        },
        "outputId": "2218b0b7-a7ec-4144-c33d-2485702f3d9f"
      },
      "execution_count": null,
      "outputs": [
        {
          "output_type": "stream",
          "name": "stdout",
          "text": [
            "column name: \t Date\n",
            "data type: \t int64\n",
            "\n",
            "\n",
            "column name: \t Location\n",
            "data type: \t int64\n",
            "\n",
            "\n",
            "column name: \t MinTemp\n",
            "data type: \t float64\n",
            "\n",
            "\n",
            "column name: \t MaxTemp\n",
            "data type: \t float64\n",
            "\n",
            "\n",
            "column name: \t Rainfall\n",
            "data type: \t float64\n",
            "\n",
            "\n",
            "column name: \t WindGustDir\n",
            "data type: \t int64\n",
            "\n",
            "\n",
            "column name: \t WindGustSpeed\n",
            "data type: \t float64\n",
            "\n",
            "\n",
            "column name: \t WindDir9am\n",
            "data type: \t int64\n",
            "\n",
            "\n",
            "column name: \t WindDir3pm\n",
            "data type: \t int64\n",
            "\n",
            "\n",
            "column name: \t WindSpeed9am\n",
            "data type: \t float64\n",
            "\n",
            "\n",
            "column name: \t WindSpeed3pm\n",
            "data type: \t float64\n",
            "\n",
            "\n",
            "column name: \t Humidity9am\n",
            "data type: \t float64\n",
            "\n",
            "\n",
            "column name: \t Humidity3pm\n",
            "data type: \t float64\n",
            "\n",
            "\n",
            "column name: \t Pressure9am\n",
            "data type: \t float64\n",
            "\n",
            "\n",
            "column name: \t Pressure3pm\n",
            "data type: \t float64\n",
            "\n",
            "\n",
            "column name: \t Temp9am\n",
            "data type: \t float64\n",
            "\n",
            "\n",
            "column name: \t Temp3pm\n",
            "data type: \t float64\n",
            "\n",
            "\n",
            "column name: \t RainToday\n",
            "data type: \t int64\n",
            "\n",
            "\n",
            "column name: \t RainTomorrow\n",
            "data type: \t int64\n",
            "\n",
            "\n"
          ]
        }
      ]
    },
    {
      "cell_type": "code",
      "source": [
        "#creates x and y\n",
        "y = df['RainTomorrow']\n",
        "X = df.drop(columns=['RainTomorrow'], axis=1)\n",
        "# verify the output\n",
        "print(\"X.shape:\\t\", X.shape)\n",
        "print(\"Y.shape:\\t\", y.shape)"
      ],
      "metadata": {
        "colab": {
          "base_uri": "https://localhost:8080/"
        },
        "id": "M3t8pXyJSiz9",
        "outputId": "e3761a36-2dd1-41a7-f8e5-1e528ca97b8f"
      },
      "execution_count": null,
      "outputs": [
        {
          "output_type": "stream",
          "name": "stdout",
          "text": [
            "X.shape:\t (112925, 18)\n",
            "Y.shape:\t (112925,)\n"
          ]
        }
      ]
    },
    {
      "cell_type": "code",
      "source": [
        "from sklearn.model_selection import train_test_split\n",
        "\n",
        "# train:test split of 80:20\n",
        "# random_state ensures consistent split on each instance\n",
        "# stratify forces equal representation of \"yes\" and \"no\" in y columns\n",
        "\n",
        "# Without stratification\n",
        "normal_split = train_test_split(X, y, test_size=0.20, random_state=1)\n",
        "\n",
        "print(\"Normal X_train.shape:\\t\\t\", normal_split[0].shape, \"\\nNormal X_test.shape:\\t\\t\", normal_split[1].shape)\n",
        "\n",
        "\n",
        "# With stratification\n",
        "stratified_split = train_test_split(X, y, test_size=0.20, random_state=1, stratify=y)\n",
        "\n",
        "print(\"\\nStratified X_train.shape:\\t\", stratified_split[0].shape, \"\\nStratified X_test.shape:\\t\", stratified_split[1].shape)\n",
        "\n",
        "#creating a ratio of no's to yes' to measure accuracy of the split\n",
        "y_counts = y.value_counts()\n",
        "norm_counts = normal_split[3].value_counts()\n",
        "strat_counts = stratified_split[3].value_counts()\n",
        "print(f\"\\ny counts: \\n{y_counts} \\nNo:Yes ratio: \\n{y_counts[1]/sum(y_counts)}\")\n",
        "print(f\"\\nnormal_split counts: \\n{norm_counts} \\nNo:Yes ratio: \\n{norm_counts[1]/sum(norm_counts)}\")\n",
        "print(f\"\\nstratified_split counts: \\n{strat_counts} \\nNo:Yes ratio: \\n{strat_counts[1]/sum(strat_counts)}\")\n",
        "#after printouts, we chose the stratified split because it is a tad bit more accurate than a normal split"
      ],
      "metadata": {
        "id": "SVEn5Y3d4O0d",
        "colab": {
          "base_uri": "https://localhost:8080/"
        },
        "outputId": "c5cb0cc2-d46d-4b6c-df2f-f2a34b54e68c"
      },
      "execution_count": null,
      "outputs": [
        {
          "output_type": "stream",
          "name": "stdout",
          "text": [
            "Normal X_train.shape:\t\t (90340, 18) \n",
            "Normal X_test.shape:\t\t (22585, 18)\n",
            "\n",
            "Stratified X_train.shape:\t (90340, 18) \n",
            "Stratified X_test.shape:\t (22585, 18)\n",
            "\n",
            "y counts: \n",
            "0    87906\n",
            "1    25019\n",
            "Name: RainTomorrow, dtype: int64 \n",
            "No:Yes ratio: \n",
            "0.2215541288465796\n",
            "\n",
            "normal_split counts: \n",
            "0    17520\n",
            "1     5065\n",
            "Name: RainTomorrow, dtype: int64 \n",
            "No:Yes ratio: \n",
            "0.22426389196369273\n",
            "\n",
            "stratified_split counts: \n",
            "0    17581\n",
            "1     5004\n",
            "Name: RainTomorrow, dtype: int64 \n",
            "No:Yes ratio: \n",
            "0.22156298428160284\n"
          ]
        }
      ]
    },
    {
      "cell_type": "markdown",
      "source": [
        "Feature Scaling Not Needed\n",
        "\n",
        "It's noticeable that most columns have unnormalized data. Though, this shouldn't be a problem for a randrom forest.\n",
        "\n",
        "\"CART, Random Forests, Gradient Boosted Decision Trees. These algorithms utilize rules (series of inequalities) and do not require normalization.\"\n",
        "-- https://towardsdatascience.com/all-about-feature-scaling-bcc0ad75cb35"
      ],
      "metadata": {
        "id": "_-fvtGQ7AvkH"
      }
    },
    {
      "cell_type": "markdown",
      "source": [
        "Random Forest Classifier Design:\n",
        "\n",
        "Random Forests are designed to work with tabular data. Feature scaling is not necessary for an RF model. "
      ],
      "metadata": {
        "id": "mP3tyalCfdpt"
      }
    },
    {
      "cell_type": "code",
      "source": [
        "# A few things to make testing and comparing designs easy\n",
        "from sklearn.metrics import accuracy_score, precision_score, f1_score, recall_score, confusion_matrix\n",
        "\n",
        "\n",
        "class RFC_model:\n",
        "  def __init__(self, name, model):\n",
        "    self.name = name\n",
        "    self.model = model\n",
        "    self.trained_model = None\n",
        "    self.y_pred = None\n",
        "    self.y_test = None\n",
        "    self.metrics = {\"Accuracy\": None,\n",
        "                   \"Precision\": None,\n",
        "                   \"F1\": None,\n",
        "                   \"Recall\": None,\n",
        "                   \"Confusion\": None}\n",
        "\n",
        "\n",
        "  def train_test_model(self, X_train, X_test, y_train):\n",
        "    self.trained_model = self.model.fit(X_train, y_train)\n",
        "    self.y_pred = self.model.predict(X_test)\n",
        "\n",
        "    return self.y_pred\n",
        "\n",
        "\n",
        "  def score_model(self, y_test):\n",
        "    if self.y_pred is None: return\n",
        "\n",
        "    y1 = y_test\n",
        "    y2 = self.y_pred\n",
        "    self.metrics.update({\"Accuracy\": accuracy_score(y1, y2),\n",
        "              \"Precision\": precision_score(y1, y2),\n",
        "              \"F1\": f1_score(y1, y2),\n",
        "              \"Recall\": recall_score(y1, y2),\n",
        "              \"Confusion\": confusion_matrix(y1, y2)})\n",
        "    \n",
        "    return self.metrics\n",
        "\n",
        "\n",
        "  def get_all(self):\n",
        "    contents = (self.name, self.model, self.trained_model, \n",
        "                self.y_pred, self.y_test, self.metrics)\n",
        "    return contents"
      ],
      "metadata": {
        "id": "TfeSqycxKWzP"
      },
      "execution_count": null,
      "outputs": []
    },
    {
      "cell_type": "code",
      "source": [
        "# Create a few versions of a Random Forest \n",
        "# Two sets: one for each type of data split\n",
        "from sklearn.ensemble import RandomForestClassifier\n",
        "\n",
        "number_of_trees = [2, 5, 10, 20, 50, 100, 150, 200, 250] # 8 different versions of the model to run and measure\n",
        "models = []\n",
        "  \n",
        "\n",
        "for i, n in enumerate(number_of_trees):\n",
        "  model = RandomForestClassifier(n_estimators=n, max_depth=3, random_state=0)\n",
        "  models.append(RFC_model(f\"model{i}\" , model))\n",
        "  print(f\"model{i}\")"
      ],
      "metadata": {
        "id": "y1MjlK4LPnh_",
        "colab": {
          "base_uri": "https://localhost:8080/"
        },
        "outputId": "7e71c6cf-e0b3-4615-b6a0-441d73e576e8"
      },
      "execution_count": null,
      "outputs": [
        {
          "output_type": "stream",
          "name": "stdout",
          "text": [
            "model0\n",
            "model1\n",
            "model2\n",
            "model3\n",
            "model4\n",
            "model5\n",
            "model6\n",
            "model7\n",
            "model8\n"
          ]
        }
      ]
    },
    {
      "cell_type": "code",
      "source": [
        "X_train, X_test, y_train, y_test = stratified_split\n",
        "print(\"Models(stratified split): \")\n",
        "for model in models:\n",
        "  model.train_test_model(X_train, X_test, y_train)\n",
        "  model.score_model(y_test)\n",
        "  print(model.metrics)\n",
        "  # print(model.metrics[Accuracy])\n",
        "# for model in models:\n",
        "#   y_pred = train_test_model(model, X_train, y_train, X_test)\n",
        "#   scores = score_model(y_test, y_pred)\n",
        "  # print_scores(scores)\n",
        "  "
      ],
      "metadata": {
        "id": "Z5kC_pmDHsdx",
        "colab": {
          "base_uri": "https://localhost:8080/"
        },
        "outputId": "dd0a5c14-68d6-4d9c-aa3d-5fcd2984ac3d"
      },
      "execution_count": null,
      "outputs": [
        {
          "output_type": "stream",
          "name": "stdout",
          "text": [
            "Models(stratified split): \n",
            "{'Accuracy': 0.8240867832632278, 'Precision': 0.6989579313006561, 'F1': 0.4768926925608953, 'Recall': 0.36191047162270185, 'Confusion': array([[16801,   780],\n",
            "       [ 3193,  1811]])}\n",
            "{'Accuracy': 0.823732565862298, 'Precision': 0.8109422492401216, 'F1': 0.40126334787186047, 'Recall': 0.2665867306155076, 'Confusion': array([[17270,   311],\n",
            "       [ 3670,  1334]])}\n",
            "{'Accuracy': 0.8269647996457826, 'Precision': 0.7830578512396694, 'F1': 0.43688760806916427, 'Recall': 0.3029576338928857, 'Confusion': array([[17161,   420],\n",
            "       [ 3488,  1516]])}\n",
            "{'Accuracy': 0.8322337834846136, 'Precision': 0.7696404793608522, 'F1': 0.4778834229020256, 'Recall': 0.34652278177458035, 'Confusion': array([[17062,   519],\n",
            "       [ 3270,  1734]])}\n",
            "{'Accuracy': 0.8283816692495019, 'Precision': 0.783702213279678, 'F1': 0.4456521739130435, 'Recall': 0.31135091926458835, 'Confusion': array([[17151,   430],\n",
            "       [ 3446,  1558]])}\n",
            "{'Accuracy': 0.8301970334292672, 'Precision': 0.8039521580863235, 'F1': 0.4463692796304316, 'Recall': 0.30895283772981613, 'Confusion': array([[17204,   377],\n",
            "       [ 3458,  1546]])}\n",
            "{'Accuracy': 0.8292672127518265, 'Precision': 0.8066239316239316, 'F1': 0.4392088423502036, 'Recall': 0.3017585931254996, 'Confusion': array([[17219,   362],\n",
            "       [ 3494,  1510]])}\n",
            "{'Accuracy': 0.828603055125083, 'Precision': 0.8077131993481803, 'F1': 0.43447772096420745, 'Recall': 0.29716227018385294, 'Confusion': array([[17227,   354],\n",
            "       [ 3517,  1487]])}\n",
            "{'Accuracy': 0.8286473323001993, 'Precision': 0.8125689084895259, 'F1': 0.43238486359636263, 'Recall': 0.2945643485211831, 'Confusion': array([[17241,   340],\n",
            "       [ 3530,  1474]])}\n"
          ]
        }
      ]
    },
    {
      "cell_type": "code",
      "source": [
        "import matplotlib.pyplot as plt\n",
        "\n",
        "# Add labels to the plot\n",
        "class_names = [2, 5, 10, 20, 50, 100, 150, 200, 250]\n",
        "x_ticks = np.arange(len(class_names))\n",
        "y_ticks = np.arange(0,1.1,0.1)\n",
        "\n",
        "# defining y-points for each mesurement\n",
        "ypointsA = [model.metrics['Accuracy'] for model in models]\n",
        "ypointsP = [model.metrics['Precision'] for model in models]\n",
        "ypointsR = [model.metrics['Recall'] for model in models]\n",
        "ypointsF1 = [model.metrics['F1'] for model in models]\n",
        "\n",
        "# defining the figure\n",
        "fig, ((ax0, ax1), (ax2, ax3)) = plt.subplots(nrows=2, ncols=2, tight_layout=False, figsize=(10,6))\n",
        "fig.suptitle('Performance Across All Models') # super title\n",
        "\n",
        "# accuracy plot\n",
        "ax0.set_title('Accuracy Measurements')\n",
        "ax0.plot(x_ticks, ypointsA, linestyle = 'dotted', color = 'blue')\n",
        "ax0.set_yticks(y_ticks)\n",
        "\n",
        "# precision plot\n",
        "ax1.set_title('Precision Measurements')\n",
        "ax1.plot(x_ticks, ypointsP, linestyle = 'dotted', color = 'red')\n",
        "ax1.set_yticks(y_ticks)\n",
        "\n",
        "# recall plot\n",
        "ax2.set_title('Recall Measurements')\n",
        "ax2.plot(x_ticks, ypointsR, linestyle = 'dotted', color = 'red')\n",
        "ax2.set_yticks(y_ticks)\n",
        "\n",
        "# f1 plot\n",
        "ax3.set_title('F1 Measurements')\n",
        "ax3.plot(x_ticks, ypointsF1, linestyle = 'dotted', color = 'green')\n",
        "ax3.set_yticks(y_ticks)\n",
        "\n",
        "plt.show()"
      ],
      "metadata": {
        "id": "hkB2WMTNo2mw",
        "colab": {
          "base_uri": "https://localhost:8080/",
          "height": 610
        },
        "outputId": "072ffd29-0ae1-44ce-884a-171347e98a8c"
      },
      "execution_count": null,
      "outputs": [
        {
          "output_type": "display_data",
          "data": {
            "text/plain": [
              "<Figure size 1000x600 with 4 Axes>"
            ],
            "image/png": "[encoded data removed]"
          },
          "metadata": {}
        }
      ]
    }
  ]
}